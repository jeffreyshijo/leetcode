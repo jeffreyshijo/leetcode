{
 "cells": [
  {
   "cell_type": "markdown",
   "id": "5fe4b1de",
   "metadata": {},
   "source": [
    "# Dynamic Arrays"
   ]
  },
  {
   "cell_type": "markdown",
   "id": "d362826b",
   "metadata": {},
   "source": [
    "- A dynamic array is similar to an array, but with the difference that its size can be dynamically modified at runtime."
   ]
  },
  {
   "cell_type": "code",
   "execution_count": null,
   "id": "c2d9992c",
   "metadata": {},
   "outputs": [],
   "source": []
  }
 ],
 "metadata": {
  "kernelspec": {
   "display_name": "Python 3 (ipykernel)",
   "language": "python",
   "name": "python3"
  },
  "language_info": {
   "codemirror_mode": {
    "name": "ipython",
    "version": 3
   },
   "file_extension": ".py",
   "mimetype": "text/x-python",
   "name": "python",
   "nbconvert_exporter": "python",
   "pygments_lexer": "ipython3",
   "version": "3.9.13"
  }
 },
 "nbformat": 4,
 "nbformat_minor": 5
}
